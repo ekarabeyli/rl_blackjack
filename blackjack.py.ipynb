{
 "cells": [
  {
   "cell_type": "code",
   "execution_count": 123,
   "metadata": {},
   "outputs": [],
   "source": [
    "import numpy as np\n",
    "import pandas as pd\n",
    "import random\n",
    "import itertools"
   ]
  },
  {
   "cell_type": "code",
   "execution_count": 249,
   "metadata": {},
   "outputs": [],
   "source": [
    "class Action:\n",
    "    \n",
    "    def __init__(self):\n",
    "        pass\n",
    "\n",
    "class Hit(Action):\n",
    "    \n",
    "    def __init__(self):\n",
    "        super(Hit, self).__init__()\n",
    "        \n",
    "    def apply(s: State, p: Player):\n",
    "        p.hit()\n",
    "\n",
    "class Stick(Action):\n",
    "    def __init__():\n",
    "        super(Hit, self).__init__()\n",
    "\n",
    "    def apply(s: State, p: Player):\n",
    "        p.can_hit = False"
   ]
  },
  {
   "cell_type": "code",
   "execution_count": 293,
   "metadata": {},
   "outputs": [],
   "source": [
    "def croupier_policy_initialization(state):\n",
    "    if state[2] < 17:\n",
    "        return Hit\n",
    "    else:\n",
    "        return Stick\n",
    "\n",
    "\n",
    "def random_policy_initialization(state):\n",
    "    return random.choice([Hit, Stick])\n",
    "\n",
    "\n",
    "class Policy:\n",
    "    \n",
    "    def __init__(self, s : np.ndarray, policy_initialization):\n",
    "        self.columns = ['player_sum', 'player_ace', 'croupier_sum', 'croupier_ace', 'Action']\n",
    "        state_action_pairs = []\n",
    "        for state in itertools.product(*s.get_state_space()):\n",
    "            action = policy_initialization(state)\n",
    "            state_with_action = [*state, action]\n",
    "            state_action_pairs.append(state_with_action)\n",
    "        self.p = pd.DataFrame(state_action_pairs, columns=self.columns)\n",
    "        \n",
    "    def get_action(self, state):\n",
    "        current_state_policy = self.p[(self.p.player_sum == state[0]) & (self.p.player_ace == state[1]) &\n",
    "                                      (self.p.croupier_sum == state[2]) & (self.p.croupier_ace == state[3])]\n",
    "        assert current_state_policy.shape[0] == 1, current_state_policy\n",
    "        return current_state_policy.Action.values[0] \n",
    "\n",
    "\n",
    "class State:\n",
    "    \n",
    "    def __init__(self):\n",
    "        self.player = Player(self, random_policy_initialization)\n",
    "        self.croupier = Player(self, croupier_policy_initialization)\n",
    "        self.player.hit()\n",
    "        self.player.hit()\n",
    "        self.croupier.hit()\n",
    "\n",
    "    def get_state(self):\n",
    "        player_state = self.player.get_state()\n",
    "        croupier_state = self.croupier.get_state()\n",
    "        return (*player_state, *croupier_state)\n",
    "\n",
    "    def get_state_space(self):\n",
    "        state_space = []\n",
    "        state_space.extend(self.player.get_state_space())\n",
    "        state_space.extend(self.croupier.get_state_space())\n",
    "        return state_space\n",
    "\n",
    "    def step(self):\n",
    "        if self.player.can_hit and self.player.cards.sum < Cards.limit:\n",
    "            current_player = self.player\n",
    "        elif self.croupier.can_hit:\n",
    "            current_player = self.croupier\n",
    "        else:\n",
    "            current_player = None\n",
    "        \n",
    "        if current_player:\n",
    "            current_player.get_action(self.get_state()).apply(self, current_player)\n",
    "            return True\n",
    "        else:\n",
    "            return False\n",
    "        \n",
    "    def get_reward(self):\n",
    "        if self.player.cards.sum > Cards.limit:\n",
    "            if self.croupier.cards.sum > Cards.limit:\n",
    "                return 0\n",
    "            else:\n",
    "                return -1\n",
    "        elif self.croupier.cards.sum > Cards.limit:\n",
    "            return 1\n",
    "        else:\n",
    "            if self.croupier.cards.sum == self.player.cards.sum:\n",
    "                return 0\n",
    "            elif self.croupier.cards.sum > self.player.cards.sum:\n",
    "                return -1\n",
    "            else:\n",
    "                return 1\n",
    "        \n",
    "class Player():\n",
    "\n",
    "    def __init__(self, State: s, policy_initialization):\n",
    "        self.cards = Cards()\n",
    "        self.policy = Policy(s, policy_initialization)\n",
    "        self.can_hit = True\n",
    "\n",
    "    def get_state(self):\n",
    "        return self.cards.get_state()\n",
    "\n",
    "    def get_action(self, state):\n",
    "        return self.policy.get_action(state)\n",
    "    \n",
    "    def hit(self):\n",
    "        self.cards.add_card()\n",
    "\n",
    "    def get_state_space(self):\n",
    "        return self.cards.get_state_space()\n",
    "\n",
    "\n",
    "class Cards:\n",
    "    card_values = {\"Ace\": [1, 11], \"2\": [2], \"3\": [3], \"4\": [4], \"5\": [5],\n",
    "                        \"6\": [6], \"7\": [7], \"8\": [8], \"9\": [9], \"10\": [10],\n",
    "                        \"J\": [10], \"Q\": [10], \"K\": [10]}\n",
    "    possible_cards = list(card_values.keys())\n",
    "    limit = 21\n",
    "    \n",
    "    def __init__(self):\n",
    "        self.cards = []\n",
    "        self.sum = 0\n",
    "        self.usable_ace = False\n",
    "\n",
    "    def add_card(self):\n",
    "        new_card = random.choice(self.possible_cards)\n",
    "        self.cards.append(new_card)\n",
    "        if new_card == \"Ace\":\n",
    "            if self.sum + self.card_values[\"Ace\"][1] <= self.limit:\n",
    "                self.sum += self.card_values[\"Ace\"][1]\n",
    "                self.usable_ace = True\n",
    "            else:\n",
    "                self.sum += self.card_values[\"Ace\"][0]\n",
    "        else:\n",
    "            self.sum += self.card_values[new_card][0]\n",
    "        \n",
    "        if self.sum > self.limit and self.usable_ace:\n",
    "            self.usable_ace = False\n",
    "            self.sum -= self.card_values[\"Ace\"][1]\n",
    "            self.sum += self.card_values[\"Ace\"][0]\n",
    "            \n",
    "        if self.sum > self.limit:\n",
    "            self.sum = self.limit + 1\n",
    "    \n",
    "    def get_state(self):\n",
    "        return self.sum, int(self.usable_ace)\n",
    "    \n",
    "    def get_state_space(self):\n",
    "        return [range(self.limit + 2), [0, 1]]"
   ]
  },
  {
   "cell_type": "code",
   "execution_count": 284,
   "metadata": {},
   "outputs": [],
   "source": [
    "s = State()"
   ]
  },
  {
   "cell_type": "code",
   "execution_count": 223,
   "metadata": {},
   "outputs": [],
   "source": [
    "p = Policy(s, [Hit], random_policy_initialization)"
   ]
  },
  {
   "cell_type": "code",
   "execution_count": 311,
   "metadata": {},
   "outputs": [
    {
     "name": "stdout",
     "output_type": "stream",
     "text": [
      "(20, 0, 8, 0)\n",
      "(20, 0, 8, 0)\n",
      "(20, 0, 12, 0)\n",
      "(20, 0, 14, 0)\n",
      "(20, 0, 22, 0)\n",
      "(20, 0, 22, 0)\n"
     ]
    },
    {
     "data": {
      "text/plain": [
       "1"
      ]
     },
     "execution_count": 311,
     "metadata": {},
     "output_type": "execute_result"
    }
   ],
   "source": [
    "s = State()\n",
    "print(s.get_state())\n",
    "while s.step():\n",
    "    print(s.get_state())\n",
    "s.get_reward()"
   ]
  },
  {
   "cell_type": "code",
   "execution_count": 286,
   "metadata": {},
   "outputs": [
    {
     "name": "stdout",
     "output_type": "stream",
     "text": [
      "(21, 1, 17, 0)\n"
     ]
    },
    {
     "data": {
      "text/plain": [
       "1"
      ]
     },
     "execution_count": 286,
     "metadata": {},
     "output_type": "execute_result"
    }
   ],
   "source": [
    "print(s.get_state())\n",
    "s.get_reward()"
   ]
  }
 ],
 "metadata": {
  "kernelspec": {
   "display_name": "Python 3",
   "language": "python",
   "name": "python3"
  },
  "language_info": {
   "codemirror_mode": {
    "name": "ipython",
    "version": 3
   },
   "file_extension": ".py",
   "mimetype": "text/x-python",
   "name": "python",
   "nbconvert_exporter": "python",
   "pygments_lexer": "ipython3",
   "version": "3.6.0"
  }
 },
 "nbformat": 4,
 "nbformat_minor": 2
}
